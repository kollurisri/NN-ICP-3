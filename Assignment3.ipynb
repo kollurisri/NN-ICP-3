{
  "nbformat": 4,
  "nbformat_minor": 0,
  "metadata": {
    "colab": {
      "provenance": []
    },
    "kernelspec": {
      "name": "python3",
      "display_name": "Python 3"
    },
    "language_info": {
      "name": "python"
    }
  },
  "cells": [
    {
      "cell_type": "code",
      "execution_count": 3,
      "metadata": {
        "colab": {
          "base_uri": "https://localhost:8080/"
        },
        "id": "dm3339Uo5qSA",
        "outputId": "908b2568-1a5b-43f4-dd1f-1c6a368b44c1"
      },
      "outputs": [
        {
          "output_type": "stream",
          "name": "stdout",
          "text": [
            "Employee 1: \n",
            "Enter name: sanju\n",
            "Family Members: 4\n",
            "Employee Salary: 80000\n",
            "Employee Department: HR\n",
            "Employee 2: \n",
            "Enter name: Srikanth\n",
            "Family Members: 6\n",
            "Employee Salary: 90000\n",
            "Employee Department: Testing\n",
            "Full Time Employee 1: \n",
            "Enter name: santu\n",
            "Family Members: 5\n",
            "Employee Salary: 100000\n",
            "Employee Department: Management\n",
            "\n",
            "Number of employees:  3\n",
            "Avg salary is : 85000.0\n"
          ]
        }
      ],
      "source": [
        "class Employee:\n",
        "    numberOfEmployees = 0\n",
        "\n",
        "    def __init__(self, name, family, salary, department):\n",
        "        self.name = name\n",
        "        self.family = family\n",
        "        self.salary = salary\n",
        "        self.department = department\n",
        "        Employee.numberOfEmployees+=1\n",
        "\n",
        "\n",
        "def averagesalary(employee):\n",
        "    total = sum(e.salary for e in employee)\n",
        "    average = total / len(employee)\n",
        "    return average\n",
        "\n",
        "class FulltimeEmployee(Employee):\n",
        "    def __init__(self, name, family, salary, department):\n",
        "        Employee.__init__(self,name, family, salary, department)\n",
        "\n",
        "print(\"Employee 1: \")\n",
        "employee1 = Employee(input(\"Enter name: \"),input(\"Family Members: \"),int(input(\"Employee Salary: \")),input(\"Employee Department: \"))\n",
        "print(\"Employee 2: \")\n",
        "employee2 = Employee(input(\"Enter name: \"),input(\"Family Members: \"),int(input(\"Employee Salary: \")),input(\"Employee Department: \"))\n",
        "print(\"Full Time Employee 1: \")\n",
        "employee3 = FulltimeEmployee(input(\"Enter name: \"),input(\"Family Members: \"),int(input(\"Employee Salary: \")),input(\"Employee Department: \"))\n",
        "print(\"\")\n",
        "print(\"Number of employees: \",Employee.numberOfEmployees)\n",
        "listofEmployees = [employee1, employee2]\n",
        "avgsalary = averagesalary(listofEmployees)\n",
        "print(\"Avg salary is :\", avgsalary)"
      ]
    },
    {
      "cell_type": "code",
      "source": [
        "import numpy\n",
        "\n",
        "random_vector = numpy.random.uniform(1, 20, 20)\n",
        "print(random_vector)\n",
        "print(\"\")\n",
        "print(\"\")\n",
        "reshaped_array = random_vector.reshape(4, 5)\n",
        "print(\"\")\n",
        "print(\"\")\n",
        "print(reshaped_array)\n",
        "reshaped_array[numpy.arange(4), numpy.argmax(reshaped_array, axis=1)] = 0\n",
        "print(\"\")\n",
        "print(\"\")\n",
        "print(reshaped_array)"
      ],
      "metadata": {
        "colab": {
          "base_uri": "https://localhost:8080/"
        },
        "id": "WXF_8Jss7JRh",
        "outputId": "1db9a704-0030-4b05-ce68-1d97ac753878"
      },
      "execution_count": 4,
      "outputs": [
        {
          "output_type": "stream",
          "name": "stdout",
          "text": [
            "[ 4.55422848  2.14783648 19.52501111 14.5543913  11.693851   14.90245038\n",
            "  9.28680996 18.16958702 10.5046681  18.92351859  4.85376213  3.04770424\n",
            " 18.1038965   3.55752652  1.20570334  5.50205519  1.89463901 19.86182644\n",
            " 13.09347191 16.7780543 ]\n",
            "\n",
            "\n",
            "\n",
            "\n",
            "[[ 4.55422848  2.14783648 19.52501111 14.5543913  11.693851  ]\n",
            " [14.90245038  9.28680996 18.16958702 10.5046681  18.92351859]\n",
            " [ 4.85376213  3.04770424 18.1038965   3.55752652  1.20570334]\n",
            " [ 5.50205519  1.89463901 19.86182644 13.09347191 16.7780543 ]]\n",
            "\n",
            "\n",
            "[[ 4.55422848  2.14783648  0.         14.5543913  11.693851  ]\n",
            " [14.90245038  9.28680996 18.16958702 10.5046681   0.        ]\n",
            " [ 4.85376213  3.04770424  0.          3.55752652  1.20570334]\n",
            " [ 5.50205519  1.89463901  0.         13.09347191 16.7780543 ]]\n"
          ]
        }
      ]
    }
  ]
}